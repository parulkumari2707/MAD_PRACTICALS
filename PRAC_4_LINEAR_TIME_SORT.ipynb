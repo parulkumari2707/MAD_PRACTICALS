{
  "nbformat": 4,
  "nbformat_minor": 0,
  "metadata": {
    "colab": {
      "provenance": []
    },
    "kernelspec": {
      "name": "python3",
      "display_name": "Python 3"
    },
    "language_info": {
      "name": "python"
    }
  },
  "cells": [
    {
      "cell_type": "markdown",
      "source": [
        "# PRACTICAL 4 - LINEAR TIME SORTS"
      ],
      "metadata": {
        "id": "Hu4sWI04qpVq"
      }
    },
    {
      "cell_type": "code",
      "execution_count": 1,
      "metadata": {
        "id": "iW8g3PMx2CBp"
      },
      "outputs": [],
      "source": [
        "# PRACTICAL 4.1 - COUNTING SORT\n",
        "def counting_sort(A):\n",
        "  M=max(A)\n",
        "  print('Max element =',M)\n",
        "  n=len(A)\n",
        "  print('length of A =',n)\n",
        "  print('size of auxillary array =',M+1)\n",
        "  # create the auxillary array of size M+1 intialised by 0\n",
        "  C=[0]*(M+1)\n",
        "  print('Auxillary Array =',C)\n",
        "  # Generate the Freq array C\n",
        "  for i in A:\n",
        "    C[i]=C[i]+1\n",
        "  print('Freq Array =',C)\n",
        "  # Generate the Cumu freq array C\n",
        "  for i in range(1,M+1):\n",
        "    C[i]=C[i]+C[i-1]\n",
        "  print('Cumulative Freq Array =',C)\n",
        "  # Generate the output array B of size n=len(A)\n",
        "  B=[0]*(n)\n",
        "  # Fill in the array B strating from last index which is n - 1\n",
        "  for i in range(n-1,-1,-1):\n",
        "      B[C[A[i]] - 1] = A[i]\n",
        "      C[A[i]] = C[A[i]]-1\n",
        "  return B"
      ]
    },
    {
      "cell_type": "code",
      "source": [
        "# Take an array with elements between 0 to 9\n",
        "A=[2, 5, 3, 0, 2, 3, 0, 3]\n",
        "print('Orginal Array :',A)\n",
        "B=counting_sort(A)\n",
        "print('Sorted Array :',B)"
      ],
      "metadata": {
        "colab": {
          "base_uri": "https://localhost:8080/"
        },
        "id": "PtIDMl6FuuMe",
        "outputId": "9322015c-c6eb-42c9-a8df-bc7d1c7d4440"
      },
      "execution_count": 2,
      "outputs": [
        {
          "output_type": "stream",
          "name": "stdout",
          "text": [
            "Orginal Array : [2, 5, 3, 0, 2, 3, 0, 3]\n",
            "Max element = 5\n",
            "length of A = 8\n",
            "size of auxillary array = 6\n",
            "Auxillary Array = [0, 0, 0, 0, 0, 0]\n",
            "Freq Array = [2, 0, 2, 3, 0, 1]\n",
            "Cumulative Freq Array = [2, 2, 4, 7, 7, 8]\n",
            "Sorted Array : [0, 0, 2, 2, 3, 3, 3, 5]\n"
          ]
        }
      ]
    },
    {
      "cell_type": "code",
      "source": [
        "# Take an array with elements between 0 to 9\n",
        "A=[1, 3, 6, 2, 2, 0, 0, 4, 6, 5, 1]\n",
        "print('Orginal Array :',A)\n",
        "B=counting_sort(A)\n",
        "print('Sorted Array :',B)"
      ],
      "metadata": {
        "colab": {
          "base_uri": "https://localhost:8080/"
        },
        "id": "jQ1fyn5K_NNw",
        "outputId": "efbff63c-fd06-4ef2-b52b-9ec9f98bc44e"
      },
      "execution_count": 3,
      "outputs": [
        {
          "output_type": "stream",
          "name": "stdout",
          "text": [
            "Orginal Array : [1, 3, 6, 2, 2, 0, 0, 4, 6, 5, 1]\n",
            "Max element = 6\n",
            "length of A = 11\n",
            "size of auxillary array = 7\n",
            "Auxillary Array = [0, 0, 0, 0, 0, 0, 0]\n",
            "Freq Array = [2, 2, 2, 1, 1, 1, 2]\n",
            "Cumulative Freq Array = [2, 4, 6, 7, 8, 9, 11]\n",
            "Sorted Array : [0, 0, 1, 1, 2, 2, 3, 4, 5, 6, 6]\n"
          ]
        }
      ]
    },
    {
      "cell_type": "code",
      "source": [
        "# PRACTICAL 4.2 RADIX SORT\n",
        "# Using counting sort to sort the elements on the basis of significant(decimal) places\n",
        "def counting_sort(A,place): # Counting_sort has addiitonal argument of place value\n",
        "  n = len(A)\n",
        "  B = [0] * n\n",
        "  C = [0] * 10\n",
        "# Calculate count of elements using Auxillary Array of size 10 taking digits from 0 to 9\n",
        "  for i in range(0,n):\n",
        "    index = A[i] // place # divide by place value\n",
        "    C[index % 10] += 1\n",
        "# Calculate cumulative count for the Auxillary Array\n",
        "  for i in range(1, 10):\n",
        "    C[i] += C[i - 1]\n",
        "    # Place the elements in sorted order as per the digits at place value\n",
        "    i = n - 1\n",
        "  while i >= 0:\n",
        "    index = A[i] // place # Divide A[i] by plac value to retain the quotients\n",
        "    B[C[index % 10] - 1] = A[i]\n",
        "    C[index % 10] -= 1\n",
        "    i -= 1\n",
        "  for i in range(0,n):\n",
        "    A[i] = B[i]\n",
        "  print(A)"
      ],
      "metadata": {
        "id": "w0fzeWQfj7rG"
      },
      "execution_count": 4,
      "outputs": []
    },
    {
      "cell_type": "code",
      "source": [
        "# Main function to implement radix sort\n",
        "def radix_sort(A):\n",
        "  # Get maximum element\n",
        "  max_element = max(A)\n",
        "  # Apply counting sort to sort elements based on place value.\n",
        "  place = 1\n",
        "  print('place =',place)\n",
        "  while max_element // place > 0:\n",
        "    counting_sort(A, place)\n",
        "    # Call for counting sort for d times if d = no.of digits in the array element\n",
        "    place *= 10 # moving to digits from units to tens to hundreds.... place\n",
        "    print('place =',place)"
      ],
      "metadata": {
        "id": "4lgO66EE7_7L"
      },
      "execution_count": 5,
      "outputs": []
    },
    {
      "cell_type": "code",
      "source": [
        "# Test Code for checking radix sort\n",
        "A = [121, 432, 564, 23, 1, 45, 788]\n",
        "radix_sort(A)\n",
        "print(A)"
      ],
      "metadata": {
        "colab": {
          "base_uri": "https://localhost:8080/"
        },
        "id": "n3jLML818GrT",
        "outputId": "782fa9c0-ba7c-44db-c986-8894d552b8a2"
      },
      "execution_count": 6,
      "outputs": [
        {
          "output_type": "stream",
          "name": "stdout",
          "text": [
            "place = 1\n",
            "[121, 1, 432, 23, 564, 45, 788]\n",
            "place = 10\n",
            "[1, 121, 23, 432, 45, 564, 788]\n",
            "place = 100\n",
            "[1, 23, 45, 121, 432, 564, 788]\n",
            "place = 1000\n",
            "[1, 23, 45, 121, 432, 564, 788]\n"
          ]
        }
      ]
    },
    {
      "cell_type": "code",
      "source": [
        "# Another test case\n",
        "A = [181,289,390,121,145,736,514,212]\n",
        "radix_sort(A)\n",
        "print(A)"
      ],
      "metadata": {
        "colab": {
          "base_uri": "https://localhost:8080/"
        },
        "id": "VIzCxj42IiSC",
        "outputId": "903a38f8-1216-4d30-832a-6346be9a07ce"
      },
      "execution_count": 7,
      "outputs": [
        {
          "output_type": "stream",
          "name": "stdout",
          "text": [
            "place = 1\n",
            "[390, 181, 121, 212, 514, 145, 736, 289]\n",
            "place = 10\n",
            "[212, 514, 121, 736, 145, 181, 289, 390]\n",
            "place = 100\n",
            "[121, 145, 181, 212, 289, 390, 514, 736]\n",
            "place = 1000\n",
            "[121, 145, 181, 212, 289, 390, 514, 736]\n"
          ]
        }
      ]
    },
    {
      "cell_type": "code",
      "source": [
        "\n",
        "# Ascending array\n",
        "A = [11,28,39,121,145,363,514,612]\n",
        "radix_sort(A)\n",
        "print(A)"
      ],
      "metadata": {
        "colab": {
          "base_uri": "https://localhost:8080/"
        },
        "id": "-A48M1KvJQaZ",
        "outputId": "e19a78c8-0277-409a-9fdb-c9232cd97a30"
      },
      "execution_count": 8,
      "outputs": [
        {
          "output_type": "stream",
          "name": "stdout",
          "text": [
            "place = 1\n",
            "[11, 121, 612, 363, 514, 145, 28, 39]\n",
            "place = 10\n",
            "[11, 612, 514, 121, 28, 39, 145, 363]\n",
            "place = 100\n",
            "[11, 28, 39, 121, 145, 363, 514, 612]\n",
            "place = 1000\n",
            "[11, 28, 39, 121, 145, 363, 514, 612]\n"
          ]
        }
      ]
    },
    {
      "cell_type": "code",
      "source": [
        "# descending array\n",
        "A = [181,89,39,36,21,14,10,2]\n",
        "radix_sort(A)\n",
        "print(A)"
      ],
      "metadata": {
        "colab": {
          "base_uri": "https://localhost:8080/"
        },
        "id": "4w3q3ZODJfuz",
        "outputId": "09081e8c-0712-4491-d92e-5d23aabc9b0d"
      },
      "execution_count": 9,
      "outputs": [
        {
          "output_type": "stream",
          "name": "stdout",
          "text": [
            "place = 1\n",
            "[10, 181, 21, 2, 14, 36, 89, 39]\n",
            "place = 10\n",
            "[2, 10, 14, 21, 36, 39, 181, 89]\n",
            "place = 100\n",
            "[2, 10, 14, 21, 36, 39, 89, 181]\n",
            "place = 1000\n",
            "[2, 10, 14, 21, 36, 39, 89, 181]\n"
          ]
        }
      ]
    },
    {
      "cell_type": "code",
      "source": [
        "# random order array - avaergae time complexity\n",
        "A = [181,89,232,36,121,14,410,2]\n",
        "radix_sort(A)\n",
        "print(A)"
      ],
      "metadata": {
        "colab": {
          "base_uri": "https://localhost:8080/"
        },
        "id": "OpYnAEbOJ66K",
        "outputId": "a35ad32e-ef39-485b-8f5e-5d0226b8fa72"
      },
      "execution_count": 10,
      "outputs": [
        {
          "output_type": "stream",
          "name": "stdout",
          "text": [
            "place = 1\n",
            "[410, 181, 121, 232, 2, 14, 36, 89]\n",
            "place = 10\n",
            "[2, 410, 14, 121, 232, 36, 181, 89]\n",
            "place = 100\n",
            "[2, 14, 36, 89, 121, 181, 232, 410]\n",
            "place = 1000\n",
            "[2, 14, 36, 89, 121, 181, 232, 410]\n"
          ]
        }
      ]
    },
    {
      "cell_type": "code",
      "source": [
        "# Test case Worst case time complexity\n",
        "A = [181,892,232,136,121,614,410,2525147]\n",
        "radix_sort(A)\n",
        "print(A)"
      ],
      "metadata": {
        "colab": {
          "base_uri": "https://localhost:8080/"
        },
        "id": "iSt3su8WLjid",
        "outputId": "d2fbc0a4-f1b1-4fa9-c82b-8caced2edcbe"
      },
      "execution_count": 11,
      "outputs": [
        {
          "output_type": "stream",
          "name": "stdout",
          "text": [
            "place = 1\n",
            "[410, 181, 121, 892, 232, 614, 136, 2525147]\n",
            "place = 10\n",
            "[410, 614, 121, 232, 136, 2525147, 181, 892]\n",
            "place = 100\n",
            "[121, 136, 2525147, 181, 232, 410, 614, 892]\n",
            "place = 1000\n",
            "[121, 136, 181, 232, 410, 614, 892, 2525147]\n",
            "place = 10000\n",
            "[121, 136, 181, 232, 410, 614, 892, 2525147]\n",
            "place = 100000\n",
            "[121, 136, 181, 232, 410, 614, 892, 2525147]\n",
            "place = 1000000\n",
            "[121, 136, 181, 232, 410, 614, 892, 2525147]\n",
            "place = 10000000\n",
            "[121, 136, 181, 232, 410, 614, 892, 2525147]\n"
          ]
        }
      ]
    },
    {
      "cell_type": "code",
      "source": [
        "# Test case for Best Time Complexity\n",
        "A = [18,89,23,36,12,14,41,62]\n",
        "radix_sort(A)\n",
        "print(A)"
      ],
      "metadata": {
        "colab": {
          "base_uri": "https://localhost:8080/"
        },
        "id": "8VNEm1ONMYVY",
        "outputId": "36ad904c-3118-45f7-b3e5-be2cd9335f30"
      },
      "execution_count": 12,
      "outputs": [
        {
          "output_type": "stream",
          "name": "stdout",
          "text": [
            "place = 1\n",
            "[41, 12, 62, 23, 14, 36, 18, 89]\n",
            "place = 10\n",
            "[12, 14, 18, 23, 36, 41, 62, 89]\n",
            "place = 100\n",
            "[12, 14, 18, 23, 36, 41, 62, 89]\n"
          ]
        }
      ]
    },
    {
      "cell_type": "code",
      "source": [
        "# Best Case - all the elements are one digited.\n",
        "A = [8,9,2,6,0,1,4,7,3]\n",
        "radix_sort(A)\n",
        "print(A)"
      ],
      "metadata": {
        "colab": {
          "base_uri": "https://localhost:8080/"
        },
        "id": "wTs69lJOM3KI",
        "outputId": "af750313-a5e8-4a21-ff01-5d59ce8d75a8"
      },
      "execution_count": 13,
      "outputs": [
        {
          "output_type": "stream",
          "name": "stdout",
          "text": [
            "place = 1\n",
            "[0, 1, 2, 3, 4, 6, 7, 8, 9]\n",
            "place = 10\n",
            "[0, 1, 2, 3, 4, 6, 7, 8, 9]\n"
          ]
        }
      ]
    },
    {
      "cell_type": "code",
      "source": [
        "# PRACTICAL 4.3 BUCKET SORT\n",
        "def bucket_sort(array):\n",
        "  bucket = [] # Bucket Auxillary array\n",
        "  # Create empty buckets\n",
        "  for i in range(len(array)):\n",
        "    bucket.append([]) # append the empty bucket to accomodate the elements of array\n",
        "  print('Bucket Auxillary array :',bucket)\n",
        "    # Insert elements into their respective buckets\n",
        "  for j in array:\n",
        "    index_b = int(10 * j) # for example j = 0.78 then int[10*0.78] = int [7.8] = 7\n",
        "    print('bucket index  for ',j,' is ',index_b)\n",
        "    bucket[index_b].append(j)\n",
        "  print('Bucket array after insertion:',bucket)\n",
        "    # Sort the elements of each bucket\n",
        "  for i in range(len(array)):\n",
        "    bucket[i] = sorted(bucket[i])\n",
        "    # Get the sorted elements\n",
        "    k = 0\n",
        "    for i in range(len(array)):\n",
        "      for j in range(len(bucket[i])):\n",
        "        array[k] = bucket[i][j]\n",
        "        k += 1\n",
        "    print('Bucket array with each bucket sorted :',bucket)\n",
        "  return array"
      ],
      "metadata": {
        "id": "AbCAKo2PUlIg"
      },
      "execution_count": 14,
      "outputs": []
    },
    {
      "cell_type": "code",
      "source": [
        "# Test Code for checking bucket sort\n",
        "array=[0.78,0.17,0.39,0.26,0.1,0.2,0.09,0.72,0.94,0.21,0.12,0.23,0.68,0.45,0.53,0.8]\n",
        "print('Orginal array :',array)\n",
        "B=bucket_sort(array)\n",
        "print('Sorted array :',array)"
      ],
      "metadata": {
        "colab": {
          "base_uri": "https://localhost:8080/"
        },
        "id": "ZR7W3yI4Uo7e",
        "outputId": "31192eaa-876e-4baf-99d1-290d8f0fbebe"
      },
      "execution_count": 15,
      "outputs": [
        {
          "output_type": "stream",
          "name": "stdout",
          "text": [
            "Orginal array : [0.78, 0.17, 0.39, 0.26, 0.1, 0.2, 0.09, 0.72, 0.94, 0.21, 0.12, 0.23, 0.68, 0.45, 0.53, 0.8]\n",
            "Bucket Auxillary array : [[], [], [], [], [], [], [], [], [], [], [], [], [], [], [], []]\n",
            "bucket index  for  0.78  is  7\n",
            "bucket index  for  0.17  is  1\n",
            "bucket index  for  0.39  is  3\n",
            "bucket index  for  0.26  is  2\n",
            "bucket index  for  0.1  is  1\n",
            "bucket index  for  0.2  is  2\n",
            "bucket index  for  0.09  is  0\n",
            "bucket index  for  0.72  is  7\n",
            "bucket index  for  0.94  is  9\n",
            "bucket index  for  0.21  is  2\n",
            "bucket index  for  0.12  is  1\n",
            "bucket index  for  0.23  is  2\n",
            "bucket index  for  0.68  is  6\n",
            "bucket index  for  0.45  is  4\n",
            "bucket index  for  0.53  is  5\n",
            "bucket index  for  0.8  is  8\n",
            "Bucket array after insertion: [[0.09], [0.17, 0.1, 0.12], [0.26, 0.2, 0.21, 0.23], [0.39], [0.45], [0.53], [0.68], [0.78, 0.72], [0.8], [0.94], [], [], [], [], [], []]\n",
            "Bucket array with each bucket sorted : [[0.09], [0.17, 0.1, 0.12], [0.26, 0.2, 0.21, 0.23], [0.39], [0.45], [0.53], [0.68], [0.78, 0.72], [0.8], [0.94], [], [], [], [], [], []]\n",
            "Bucket array with each bucket sorted : [[0.09], [0.1, 0.12, 0.17], [0.26, 0.2, 0.21, 0.23], [0.39], [0.45], [0.53], [0.68], [0.78, 0.72], [0.8], [0.94], [], [], [], [], [], []]\n",
            "Bucket array with each bucket sorted : [[0.09], [0.1, 0.12, 0.17], [0.2, 0.21, 0.23, 0.26], [0.39], [0.45], [0.53], [0.68], [0.78, 0.72], [0.8], [0.94], [], [], [], [], [], []]\n",
            "Bucket array with each bucket sorted : [[0.09], [0.1, 0.12, 0.17], [0.2, 0.21, 0.23, 0.26], [0.39], [0.45], [0.53], [0.68], [0.78, 0.72], [0.8], [0.94], [], [], [], [], [], []]\n",
            "Bucket array with each bucket sorted : [[0.09], [0.1, 0.12, 0.17], [0.2, 0.21, 0.23, 0.26], [0.39], [0.45], [0.53], [0.68], [0.78, 0.72], [0.8], [0.94], [], [], [], [], [], []]\n",
            "Bucket array with each bucket sorted : [[0.09], [0.1, 0.12, 0.17], [0.2, 0.21, 0.23, 0.26], [0.39], [0.45], [0.53], [0.68], [0.78, 0.72], [0.8], [0.94], [], [], [], [], [], []]\n",
            "Bucket array with each bucket sorted : [[0.09], [0.1, 0.12, 0.17], [0.2, 0.21, 0.23, 0.26], [0.39], [0.45], [0.53], [0.68], [0.78, 0.72], [0.8], [0.94], [], [], [], [], [], []]\n",
            "Bucket array with each bucket sorted : [[0.09], [0.1, 0.12, 0.17], [0.2, 0.21, 0.23, 0.26], [0.39], [0.45], [0.53], [0.68], [0.72, 0.78], [0.8], [0.94], [], [], [], [], [], []]\n",
            "Bucket array with each bucket sorted : [[0.09], [0.1, 0.12, 0.17], [0.2, 0.21, 0.23, 0.26], [0.39], [0.45], [0.53], [0.68], [0.72, 0.78], [0.8], [0.94], [], [], [], [], [], []]\n",
            "Bucket array with each bucket sorted : [[0.09], [0.1, 0.12, 0.17], [0.2, 0.21, 0.23, 0.26], [0.39], [0.45], [0.53], [0.68], [0.72, 0.78], [0.8], [0.94], [], [], [], [], [], []]\n",
            "Bucket array with each bucket sorted : [[0.09], [0.1, 0.12, 0.17], [0.2, 0.21, 0.23, 0.26], [0.39], [0.45], [0.53], [0.68], [0.72, 0.78], [0.8], [0.94], [], [], [], [], [], []]\n",
            "Bucket array with each bucket sorted : [[0.09], [0.1, 0.12, 0.17], [0.2, 0.21, 0.23, 0.26], [0.39], [0.45], [0.53], [0.68], [0.72, 0.78], [0.8], [0.94], [], [], [], [], [], []]\n",
            "Bucket array with each bucket sorted : [[0.09], [0.1, 0.12, 0.17], [0.2, 0.21, 0.23, 0.26], [0.39], [0.45], [0.53], [0.68], [0.72, 0.78], [0.8], [0.94], [], [], [], [], [], []]\n",
            "Bucket array with each bucket sorted : [[0.09], [0.1, 0.12, 0.17], [0.2, 0.21, 0.23, 0.26], [0.39], [0.45], [0.53], [0.68], [0.72, 0.78], [0.8], [0.94], [], [], [], [], [], []]\n",
            "Bucket array with each bucket sorted : [[0.09], [0.1, 0.12, 0.17], [0.2, 0.21, 0.23, 0.26], [0.39], [0.45], [0.53], [0.68], [0.72, 0.78], [0.8], [0.94], [], [], [], [], [], []]\n",
            "Bucket array with each bucket sorted : [[0.09], [0.1, 0.12, 0.17], [0.2, 0.21, 0.23, 0.26], [0.39], [0.45], [0.53], [0.68], [0.72, 0.78], [0.8], [0.94], [], [], [], [], [], []]\n",
            "Sorted array : [0.09, 0.1, 0.12, 0.17, 0.2, 0.21, 0.23, 0.26, 0.39, 0.45, 0.53, 0.68, 0.72, 0.78, 0.8, 0.94]\n"
          ]
        }
      ]
    },
    {
      "cell_type": "code",
      "source": [],
      "metadata": {
        "id": "L_Jizeg9Ugj-"
      },
      "execution_count": null,
      "outputs": []
    }
  ]
}