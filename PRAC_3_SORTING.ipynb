{
  "nbformat": 4,
  "nbformat_minor": 0,
  "metadata": {
    "colab": {
      "provenance": []
    },
    "kernelspec": {
      "name": "python3",
      "display_name": "Python 3"
    },
    "language_info": {
      "name": "python"
    }
  },
  "cells": [
    {
      "cell_type": "code",
      "source": [
        "# PRACTICAL - 3.1 : INSERTION SORTING\n",
        "def insertion_sort(A):\n",
        "  # since A[] index will start from 0\n",
        "  count_for = 0\n",
        "  count_while = 0\n",
        "  for i in range(1,len(A)):\n",
        "    key=A[i]\n",
        "    j=i-1\n",
        "    count_for=count_for+1\n",
        "    print('count_for',count_for)\n",
        "    while (j>=0) and (A[j]>key):\n",
        "      A[j+1]=A[j]\n",
        "      j=j-1\n",
        "      count_while=count_while+1\n",
        "      print('count_while',count_while)\n",
        "    A[j+1] = key"
      ],
      "metadata": {
        "id": "e6t_qXt4H5_2"
      },
      "execution_count": 1,
      "outputs": []
    },
    {
      "cell_type": "code",
      "source": [
        "A=[15, 9, 30,10,1]"
      ],
      "metadata": {
        "id": "lbZoIZ6LJmiq"
      },
      "execution_count": 2,
      "outputs": []
    },
    {
      "cell_type": "code",
      "source": [
        "print('Original Array',A)"
      ],
      "metadata": {
        "id": "k-yU-XLRKQ9v",
        "colab": {
          "base_uri": "https://localhost:8080/"
        },
        "outputId": "0de5fad4-069b-4fd0-a0c3-df0664edfd77"
      },
      "execution_count": 3,
      "outputs": [
        {
          "output_type": "stream",
          "name": "stdout",
          "text": [
            "Original Array [15, 9, 30, 10, 1]\n"
          ]
        }
      ]
    },
    {
      "cell_type": "code",
      "source": [
        "insertion_sort(A)"
      ],
      "metadata": {
        "id": "hZgepvY2J2le",
        "colab": {
          "base_uri": "https://localhost:8080/"
        },
        "outputId": "54da3e56-c363-47ae-ea25-4094f23de74b"
      },
      "execution_count": 4,
      "outputs": [
        {
          "output_type": "stream",
          "name": "stdout",
          "text": [
            "count_for 1\n",
            "count_while 1\n",
            "count_for 2\n",
            "count_for 3\n",
            "count_while 2\n",
            "count_while 3\n",
            "count_for 4\n",
            "count_while 4\n",
            "count_while 5\n",
            "count_while 6\n",
            "count_while 7\n"
          ]
        }
      ]
    },
    {
      "cell_type": "code",
      "source": [
        "print('Sorted Array :',A)"
      ],
      "metadata": {
        "id": "xIr7fvhyKEsH",
        "colab": {
          "base_uri": "https://localhost:8080/"
        },
        "outputId": "b51ccf77-f97e-4894-8eff-821c3a321d11"
      },
      "execution_count": 5,
      "outputs": [
        {
          "output_type": "stream",
          "name": "stdout",
          "text": [
            "Sorted Array : [1, 9, 10, 15, 30]\n"
          ]
        }
      ]
    },
    {
      "cell_type": "code",
      "source": [
        "# Best Case\n",
        "B=[1 ,2, 3, 4, 5, 6, 7]\n",
        "print('Original Array :',B)"
      ],
      "metadata": {
        "id": "shOiGbX-Kt0Y",
        "colab": {
          "base_uri": "https://localhost:8080/"
        },
        "outputId": "87b4440b-6cef-4282-b8e0-b06a4a837d0e"
      },
      "execution_count": 6,
      "outputs": [
        {
          "output_type": "stream",
          "name": "stdout",
          "text": [
            "Original Array : [1, 2, 3, 4, 5, 6, 7]\n"
          ]
        }
      ]
    },
    {
      "cell_type": "code",
      "source": [
        "insertion_sort(B)\n",
        "print('Sorted Array :',B)"
      ],
      "metadata": {
        "id": "kh_4r1ZBK2Rm",
        "colab": {
          "base_uri": "https://localhost:8080/"
        },
        "outputId": "9f6e91d0-0155-4170-b73a-9fca66ef109e"
      },
      "execution_count": 7,
      "outputs": [
        {
          "output_type": "stream",
          "name": "stdout",
          "text": [
            "count_for 1\n",
            "count_for 2\n",
            "count_for 3\n",
            "count_for 4\n",
            "count_for 5\n",
            "count_for 6\n",
            "Sorted Array : [1, 2, 3, 4, 5, 6, 7]\n"
          ]
        }
      ]
    },
    {
      "cell_type": "code",
      "source": [
        "# Average Case\n",
        "D = [10, 8, 7, 6, 12, 15, 20, 30]\n",
        "print('Original Array :',D)"
      ],
      "metadata": {
        "id": "ULE0ffhoNp1o",
        "colab": {
          "base_uri": "https://localhost:8080/"
        },
        "outputId": "06e78d9e-dee3-4360-b7c0-a96c7105fbc6"
      },
      "execution_count": 8,
      "outputs": [
        {
          "output_type": "stream",
          "name": "stdout",
          "text": [
            "Original Array : [10, 8, 7, 6, 12, 15, 20, 30]\n"
          ]
        }
      ]
    },
    {
      "cell_type": "code",
      "source": [
        "insertion_sort(D)\n",
        "print('Sorted Array :',D)"
      ],
      "metadata": {
        "id": "8DQXaucpN6Kp",
        "colab": {
          "base_uri": "https://localhost:8080/"
        },
        "outputId": "d3cddcce-48d9-4541-d3cc-8634d5e852d3"
      },
      "execution_count": 9,
      "outputs": [
        {
          "output_type": "stream",
          "name": "stdout",
          "text": [
            "count_for 1\n",
            "count_while 1\n",
            "count_for 2\n",
            "count_while 2\n",
            "count_while 3\n",
            "count_for 3\n",
            "count_while 4\n",
            "count_while 5\n",
            "count_while 6\n",
            "count_for 4\n",
            "count_for 5\n",
            "count_for 6\n",
            "count_for 7\n",
            "Sorted Array : [6, 7, 8, 10, 12, 15, 20, 30]\n"
          ]
        }
      ]
    },
    {
      "cell_type": "code",
      "source": [
        "# Worst Case\n",
        "C = [100,90,80,70,60,50,40,30,20,10]\n",
        "print('Original Array :',C)"
      ],
      "metadata": {
        "id": "MzOJCMilM-nz",
        "colab": {
          "base_uri": "https://localhost:8080/"
        },
        "outputId": "c01e3419-f177-4f4c-8605-9ad7f559e6b0"
      },
      "execution_count": 10,
      "outputs": [
        {
          "output_type": "stream",
          "name": "stdout",
          "text": [
            "Original Array : [100, 90, 80, 70, 60, 50, 40, 30, 20, 10]\n"
          ]
        }
      ]
    },
    {
      "cell_type": "code",
      "source": [
        "insertion_sort(C)\n",
        "print('Sorted Array :',C)"
      ],
      "metadata": {
        "id": "i7LxzBBnNRjH",
        "colab": {
          "base_uri": "https://localhost:8080/"
        },
        "outputId": "c1e88a10-a541-4e29-e7a8-d191a2517b56"
      },
      "execution_count": 11,
      "outputs": [
        {
          "output_type": "stream",
          "name": "stdout",
          "text": [
            "count_for 1\n",
            "count_while 1\n",
            "count_for 2\n",
            "count_while 2\n",
            "count_while 3\n",
            "count_for 3\n",
            "count_while 4\n",
            "count_while 5\n",
            "count_while 6\n",
            "count_for 4\n",
            "count_while 7\n",
            "count_while 8\n",
            "count_while 9\n",
            "count_while 10\n",
            "count_for 5\n",
            "count_while 11\n",
            "count_while 12\n",
            "count_while 13\n",
            "count_while 14\n",
            "count_while 15\n",
            "count_for 6\n",
            "count_while 16\n",
            "count_while 17\n",
            "count_while 18\n",
            "count_while 19\n",
            "count_while 20\n",
            "count_while 21\n",
            "count_for 7\n",
            "count_while 22\n",
            "count_while 23\n",
            "count_while 24\n",
            "count_while 25\n",
            "count_while 26\n",
            "count_while 27\n",
            "count_while 28\n",
            "count_for 8\n",
            "count_while 29\n",
            "count_while 30\n",
            "count_while 31\n",
            "count_while 32\n",
            "count_while 33\n",
            "count_while 34\n",
            "count_while 35\n",
            "count_while 36\n",
            "count_for 9\n",
            "count_while 37\n",
            "count_while 38\n",
            "count_while 39\n",
            "count_while 40\n",
            "count_while 41\n",
            "count_while 42\n",
            "count_while 43\n",
            "count_while 44\n",
            "count_while 45\n",
            "Sorted Array : [10, 20, 30, 40, 50, 60, 70, 80, 90, 100]\n"
          ]
        }
      ]
    },
    {
      "cell_type": "code",
      "source": [
        "# PARACTICAL - 3.2 : SELECTION SORT\n",
        "def selection_sort(array):\n",
        "  temp=0\n",
        "  count_for_i=0\n",
        "  count_for_j=0\n",
        "  for i in range(0,len(array)-1):\n",
        "    count_for_i=count_for_i +1\n",
        "    print('count_for_i :',count_for_i)\n",
        "    min = i # set current element as minimum\n",
        "    print('min :',min, ' and array[min] :',array[min])\n",
        "    for j in range(i+1,len(array)):\n",
        "      count_for_j = count_for_j + 1\n",
        "      print('count_for_j :',count_for_j)\n",
        "      #check the element to be minimum   ……………………… n – i\n",
        "      if array[j] < array[min]:\n",
        "        min = j\n",
        "        print('min :',min, ' and array[min] :',array[min])\n",
        "    if (min!=i):\n",
        "      temp=array[min]\n",
        "      array[min]=array[i]\n",
        "      array[i]=temp"
      ],
      "metadata": {
        "id": "LhQSi03QNIQW"
      },
      "execution_count": 12,
      "outputs": []
    },
    {
      "cell_type": "code",
      "source": [
        "array=[15, 30, 25, 10, 35, 20, 45, 40]\n",
        "print('Orginal Ayyary :',array)"
      ],
      "metadata": {
        "id": "b4L6I0RDS0bJ",
        "colab": {
          "base_uri": "https://localhost:8080/"
        },
        "outputId": "f7fc7743-a736-4f98-aa65-09ebba2ca9bd"
      },
      "execution_count": 13,
      "outputs": [
        {
          "output_type": "stream",
          "name": "stdout",
          "text": [
            "Orginal Ayyary : [15, 30, 25, 10, 35, 20, 45, 40]\n"
          ]
        }
      ]
    },
    {
      "cell_type": "code",
      "source": [
        "selection_sort(array)\n",
        "print('Sorted Ayyary :',array)"
      ],
      "metadata": {
        "id": "KfCvup7xTHYq",
        "colab": {
          "base_uri": "https://localhost:8080/"
        },
        "outputId": "c91eafae-bea6-49db-f12e-94b12cdb7575"
      },
      "execution_count": 14,
      "outputs": [
        {
          "output_type": "stream",
          "name": "stdout",
          "text": [
            "count_for_i : 1\n",
            "min : 0  and array[min] : 15\n",
            "count_for_j : 1\n",
            "count_for_j : 2\n",
            "count_for_j : 3\n",
            "min : 3  and array[min] : 10\n",
            "count_for_j : 4\n",
            "count_for_j : 5\n",
            "count_for_j : 6\n",
            "count_for_j : 7\n",
            "count_for_i : 2\n",
            "min : 1  and array[min] : 30\n",
            "count_for_j : 8\n",
            "min : 2  and array[min] : 25\n",
            "count_for_j : 9\n",
            "min : 3  and array[min] : 15\n",
            "count_for_j : 10\n",
            "count_for_j : 11\n",
            "count_for_j : 12\n",
            "count_for_j : 13\n",
            "count_for_i : 3\n",
            "min : 2  and array[min] : 25\n",
            "count_for_j : 14\n",
            "count_for_j : 15\n",
            "count_for_j : 16\n",
            "min : 5  and array[min] : 20\n",
            "count_for_j : 17\n",
            "count_for_j : 18\n",
            "count_for_i : 4\n",
            "min : 3  and array[min] : 30\n",
            "count_for_j : 19\n",
            "count_for_j : 20\n",
            "min : 5  and array[min] : 25\n",
            "count_for_j : 21\n",
            "count_for_j : 22\n",
            "count_for_i : 5\n",
            "min : 4  and array[min] : 35\n",
            "count_for_j : 23\n",
            "min : 5  and array[min] : 30\n",
            "count_for_j : 24\n",
            "count_for_j : 25\n",
            "count_for_i : 6\n",
            "min : 5  and array[min] : 35\n",
            "count_for_j : 26\n",
            "count_for_j : 27\n",
            "count_for_i : 7\n",
            "min : 6  and array[min] : 45\n",
            "count_for_j : 28\n",
            "min : 7  and array[min] : 40\n",
            "Sorted Ayyary : [10, 15, 20, 25, 30, 35, 40, 45]\n"
          ]
        }
      ]
    },
    {
      "cell_type": "code",
      "source": [
        "# Best Case\n",
        "best=[1,2,3,4,5,6,7,8]\n",
        "print('Orginal Arrary :',best)\n",
        "selection_sort(best)\n",
        "print('Sorted Arrary :',best)"
      ],
      "metadata": {
        "id": "QAuIe8ioVq0z",
        "colab": {
          "base_uri": "https://localhost:8080/"
        },
        "outputId": "78fd6633-584e-4b9d-a5f3-f9db5012b926"
      },
      "execution_count": 15,
      "outputs": [
        {
          "output_type": "stream",
          "name": "stdout",
          "text": [
            "Orginal Arrary : [1, 2, 3, 4, 5, 6, 7, 8]\n",
            "count_for_i : 1\n",
            "min : 0  and array[min] : 1\n",
            "count_for_j : 1\n",
            "count_for_j : 2\n",
            "count_for_j : 3\n",
            "count_for_j : 4\n",
            "count_for_j : 5\n",
            "count_for_j : 6\n",
            "count_for_j : 7\n",
            "count_for_i : 2\n",
            "min : 1  and array[min] : 2\n",
            "count_for_j : 8\n",
            "count_for_j : 9\n",
            "count_for_j : 10\n",
            "count_for_j : 11\n",
            "count_for_j : 12\n",
            "count_for_j : 13\n",
            "count_for_i : 3\n",
            "min : 2  and array[min] : 3\n",
            "count_for_j : 14\n",
            "count_for_j : 15\n",
            "count_for_j : 16\n",
            "count_for_j : 17\n",
            "count_for_j : 18\n",
            "count_for_i : 4\n",
            "min : 3  and array[min] : 4\n",
            "count_for_j : 19\n",
            "count_for_j : 20\n",
            "count_for_j : 21\n",
            "count_for_j : 22\n",
            "count_for_i : 5\n",
            "min : 4  and array[min] : 5\n",
            "count_for_j : 23\n",
            "count_for_j : 24\n",
            "count_for_j : 25\n",
            "count_for_i : 6\n",
            "min : 5  and array[min] : 6\n",
            "count_for_j : 26\n",
            "count_for_j : 27\n",
            "count_for_i : 7\n",
            "min : 6  and array[min] : 7\n",
            "count_for_j : 28\n",
            "Sorted Arrary : [1, 2, 3, 4, 5, 6, 7, 8]\n"
          ]
        }
      ]
    },
    {
      "cell_type": "code",
      "source": [
        "# Average Case\n",
        "average=[10,5,12,2,8,20,1]\n",
        "print('Orginal Arrary :',average)\n",
        "selection_sort(best)\n",
        "print('Sorted Arrary :',average)"
      ],
      "metadata": {
        "id": "a5p2VC9RZQ2y",
        "colab": {
          "base_uri": "https://localhost:8080/"
        },
        "outputId": "ed308247-8f79-4ed8-c725-281bdb26cd87"
      },
      "execution_count": 16,
      "outputs": [
        {
          "output_type": "stream",
          "name": "stdout",
          "text": [
            "Orginal Arrary : [10, 5, 12, 2, 8, 20, 1]\n",
            "count_for_i : 1\n",
            "min : 0  and array[min] : 1\n",
            "count_for_j : 1\n",
            "count_for_j : 2\n",
            "count_for_j : 3\n",
            "count_for_j : 4\n",
            "count_for_j : 5\n",
            "count_for_j : 6\n",
            "count_for_j : 7\n",
            "count_for_i : 2\n",
            "min : 1  and array[min] : 2\n",
            "count_for_j : 8\n",
            "count_for_j : 9\n",
            "count_for_j : 10\n",
            "count_for_j : 11\n",
            "count_for_j : 12\n",
            "count_for_j : 13\n",
            "count_for_i : 3\n",
            "min : 2  and array[min] : 3\n",
            "count_for_j : 14\n",
            "count_for_j : 15\n",
            "count_for_j : 16\n",
            "count_for_j : 17\n",
            "count_for_j : 18\n",
            "count_for_i : 4\n",
            "min : 3  and array[min] : 4\n",
            "count_for_j : 19\n",
            "count_for_j : 20\n",
            "count_for_j : 21\n",
            "count_for_j : 22\n",
            "count_for_i : 5\n",
            "min : 4  and array[min] : 5\n",
            "count_for_j : 23\n",
            "count_for_j : 24\n",
            "count_for_j : 25\n",
            "count_for_i : 6\n",
            "min : 5  and array[min] : 6\n",
            "count_for_j : 26\n",
            "count_for_j : 27\n",
            "count_for_i : 7\n",
            "min : 6  and array[min] : 7\n",
            "count_for_j : 28\n",
            "Sorted Arrary : [10, 5, 12, 2, 8, 20, 1]\n"
          ]
        }
      ]
    },
    {
      "cell_type": "code",
      "source": [
        "# Worst Case\n",
        "worst=[5,4,3,2,1]\n",
        "print('Orginal Arrary :',worst)\n",
        "selection_sort(best)\n",
        "print('Sorted Arrary :',worst)"
      ],
      "metadata": {
        "id": "8-xdNtZuZJqJ",
        "colab": {
          "base_uri": "https://localhost:8080/"
        },
        "outputId": "3243ae21-ddbd-4ec1-dcf8-1ac8c57971ea"
      },
      "execution_count": 17,
      "outputs": [
        {
          "output_type": "stream",
          "name": "stdout",
          "text": [
            "Orginal Arrary : [5, 4, 3, 2, 1]\n",
            "count_for_i : 1\n",
            "min : 0  and array[min] : 1\n",
            "count_for_j : 1\n",
            "count_for_j : 2\n",
            "count_for_j : 3\n",
            "count_for_j : 4\n",
            "count_for_j : 5\n",
            "count_for_j : 6\n",
            "count_for_j : 7\n",
            "count_for_i : 2\n",
            "min : 1  and array[min] : 2\n",
            "count_for_j : 8\n",
            "count_for_j : 9\n",
            "count_for_j : 10\n",
            "count_for_j : 11\n",
            "count_for_j : 12\n",
            "count_for_j : 13\n",
            "count_for_i : 3\n",
            "min : 2  and array[min] : 3\n",
            "count_for_j : 14\n",
            "count_for_j : 15\n",
            "count_for_j : 16\n",
            "count_for_j : 17\n",
            "count_for_j : 18\n",
            "count_for_i : 4\n",
            "min : 3  and array[min] : 4\n",
            "count_for_j : 19\n",
            "count_for_j : 20\n",
            "count_for_j : 21\n",
            "count_for_j : 22\n",
            "count_for_i : 5\n",
            "min : 4  and array[min] : 5\n",
            "count_for_j : 23\n",
            "count_for_j : 24\n",
            "count_for_j : 25\n",
            "count_for_i : 6\n",
            "min : 5  and array[min] : 6\n",
            "count_for_j : 26\n",
            "count_for_j : 27\n",
            "count_for_i : 7\n",
            "min : 6  and array[min] : 7\n",
            "count_for_j : 28\n",
            "Sorted Arrary : [5, 4, 3, 2, 1]\n"
          ]
        }
      ]
    },
    {
      "cell_type": "code",
      "source": [
        "# PRACTICAL - 3.3 MERGE SORT\n",
        "def merge_sort(arr):\n",
        "    if len(arr) > 1:\n",
        "        # Calculate the middle of the array\n",
        "        mid = len(arr) // 2\n",
        "        print('mid :',mid)\n",
        "        left = arr[:mid]  # Divide the array into two halves\n",
        "        right = arr[mid:]\n",
        "        print('left arr :',left)\n",
        "        print('right arr :',right)\n",
        "        merge_sort(left)  # Recursively sort the left half\n",
        "        merge_sort(right)  # Recursively sort the right half\n",
        "        i = j = k = 0\n",
        "        # Merge the two halves sorted in step 2 and 3\n",
        "        while i < len(left) and j < len(right):\n",
        "            if left[i] < right[j]:\n",
        "                arr[k] = left[i]\n",
        "                i=i+1\n",
        "            else:\n",
        "                arr[k] = right[j]\n",
        "                j=j+1\n",
        "            k=k+1\n",
        "        # Check if any elements were left\n",
        "        while i < len(left):\n",
        "            arr[k] = left[i]\n",
        "            i=i+1\n",
        "            k=k+1\n",
        "        while j < len(right):\n",
        "            arr[k] = right[j]\n",
        "            j=j+1\n",
        "            k=k+1\n",
        "    return arr"
      ],
      "metadata": {
        "id": "kqu3452rntLP"
      },
      "execution_count": 18,
      "outputs": []
    },
    {
      "cell_type": "code",
      "source": [
        "# Take array with even number of elements\n",
        "arr = [12, 11, 13, 5, 6, 7]\n",
        "print('Original array:', arr)\n",
        "print('length of array: ',len(arr))\n",
        "sorted_array = merge_sort(arr)\n",
        "print('Sorted array:',sorted_array)"
      ],
      "metadata": {
        "id": "_Nv1CWt1n1D3",
        "colab": {
          "base_uri": "https://localhost:8080/"
        },
        "outputId": "f6c2e910-e0a9-412c-cb9b-6abd70d02f88"
      },
      "execution_count": 19,
      "outputs": [
        {
          "output_type": "stream",
          "name": "stdout",
          "text": [
            "Original array: [12, 11, 13, 5, 6, 7]\n",
            "length of array:  6\n",
            "mid : 3\n",
            "left arr : [12, 11, 13]\n",
            "right arr : [5, 6, 7]\n",
            "mid : 1\n",
            "left arr : [12]\n",
            "right arr : [11, 13]\n",
            "mid : 1\n",
            "left arr : [11]\n",
            "right arr : [13]\n",
            "mid : 1\n",
            "left arr : [5]\n",
            "right arr : [6, 7]\n",
            "mid : 1\n",
            "left arr : [6]\n",
            "right arr : [7]\n",
            "Sorted array: [5, 6, 7, 11, 12, 13]\n"
          ]
        }
      ]
    },
    {
      "cell_type": "code",
      "source": [
        "# Take array with odd number of elements\n",
        "arr = [12, 11, 13, 5, 6]\n",
        "print('Original array:', arr)\n",
        "print('length of array: ',len(arr))\n",
        "sorted_array = merge_sort(arr)\n",
        "print('Sorted array:',sorted_array)"
      ],
      "metadata": {
        "id": "fVXLMnGLdpCA",
        "colab": {
          "base_uri": "https://localhost:8080/"
        },
        "outputId": "4ce0c8ed-f078-4974-8258-a4e0a02fa2fc"
      },
      "execution_count": 20,
      "outputs": [
        {
          "output_type": "stream",
          "name": "stdout",
          "text": [
            "Original array: [12, 11, 13, 5, 6]\n",
            "length of array:  5\n",
            "mid : 2\n",
            "left arr : [12, 11]\n",
            "right arr : [13, 5, 6]\n",
            "mid : 1\n",
            "left arr : [12]\n",
            "right arr : [11]\n",
            "mid : 1\n",
            "left arr : [13]\n",
            "right arr : [5, 6]\n",
            "mid : 1\n",
            "left arr : [5]\n",
            "right arr : [6]\n",
            "Sorted array: [5, 6, 11, 12, 13]\n"
          ]
        }
      ]
    },
    {
      "cell_type": "code",
      "source": [
        "# Best Case\n",
        "best = [1, 2, 3, 5, 6, 7]\n",
        "print('Original array:', best)\n",
        "print('length of array: ',len(best))\n",
        "sorted_best = merge_sort(best)\n",
        "print('Sorted array:',sorted_best)"
      ],
      "metadata": {
        "id": "fW7sozwze94p",
        "colab": {
          "base_uri": "https://localhost:8080/"
        },
        "outputId": "fcc91d21-5bff-4b59-ee20-0f2903010a0e"
      },
      "execution_count": 21,
      "outputs": [
        {
          "output_type": "stream",
          "name": "stdout",
          "text": [
            "Original array: [1, 2, 3, 5, 6, 7]\n",
            "length of array:  6\n",
            "mid : 3\n",
            "left arr : [1, 2, 3]\n",
            "right arr : [5, 6, 7]\n",
            "mid : 1\n",
            "left arr : [1]\n",
            "right arr : [2, 3]\n",
            "mid : 1\n",
            "left arr : [2]\n",
            "right arr : [3]\n",
            "mid : 1\n",
            "left arr : [5]\n",
            "right arr : [6, 7]\n",
            "mid : 1\n",
            "left arr : [6]\n",
            "right arr : [7]\n",
            "Sorted array: [1, 2, 3, 5, 6, 7]\n"
          ]
        }
      ]
    },
    {
      "cell_type": "code",
      "source": [
        "# Average Case\n",
        "average = [50, 40, 30, 20, 2, 6, 8, 13, 17]\n",
        "print('Original array:', average)\n",
        "print('length of array: ',len(average))\n",
        "sorted_average = merge_sort(average)\n",
        "print('Sorted array:',sorted_average)"
      ],
      "metadata": {
        "id": "BIvhHx81fQRI",
        "colab": {
          "base_uri": "https://localhost:8080/"
        },
        "outputId": "b168ed90-bead-4d2b-9911-e94caa25d33a"
      },
      "execution_count": 22,
      "outputs": [
        {
          "output_type": "stream",
          "name": "stdout",
          "text": [
            "Original array: [50, 40, 30, 20, 2, 6, 8, 13, 17]\n",
            "length of array:  9\n",
            "mid : 4\n",
            "left arr : [50, 40, 30, 20]\n",
            "right arr : [2, 6, 8, 13, 17]\n",
            "mid : 2\n",
            "left arr : [50, 40]\n",
            "right arr : [30, 20]\n",
            "mid : 1\n",
            "left arr : [50]\n",
            "right arr : [40]\n",
            "mid : 1\n",
            "left arr : [30]\n",
            "right arr : [20]\n",
            "mid : 2\n",
            "left arr : [2, 6]\n",
            "right arr : [8, 13, 17]\n",
            "mid : 1\n",
            "left arr : [2]\n",
            "right arr : [6]\n",
            "mid : 1\n",
            "left arr : [8]\n",
            "right arr : [13, 17]\n",
            "mid : 1\n",
            "left arr : [13]\n",
            "right arr : [17]\n",
            "Sorted array: [2, 6, 8, 13, 17, 20, 30, 40, 50]\n"
          ]
        }
      ]
    },
    {
      "cell_type": "code",
      "source": [
        "# Worst Case\n",
        "worst = [12, 3, 11, 5, 13, 6, 20]\n",
        "print('Original array:', worst)\n",
        "print('length of array: ',len(worst))\n",
        "sorted_worst = merge_sort(worst)\n",
        "print('Sorted array:',sorted_worst)"
      ],
      "metadata": {
        "id": "f2QdmeZlf2YA",
        "colab": {
          "base_uri": "https://localhost:8080/"
        },
        "outputId": "e0ab355b-987c-47c4-f281-886c75dda3ba"
      },
      "execution_count": 23,
      "outputs": [
        {
          "output_type": "stream",
          "name": "stdout",
          "text": [
            "Original array: [12, 3, 11, 5, 13, 6, 20]\n",
            "length of array:  7\n",
            "mid : 3\n",
            "left arr : [12, 3, 11]\n",
            "right arr : [5, 13, 6, 20]\n",
            "mid : 1\n",
            "left arr : [12]\n",
            "right arr : [3, 11]\n",
            "mid : 1\n",
            "left arr : [3]\n",
            "right arr : [11]\n",
            "mid : 2\n",
            "left arr : [5, 13]\n",
            "right arr : [6, 20]\n",
            "mid : 1\n",
            "left arr : [5]\n",
            "right arr : [13]\n",
            "mid : 1\n",
            "left arr : [6]\n",
            "right arr : [20]\n",
            "Sorted array: [3, 5, 6, 11, 12, 13, 20]\n"
          ]
        }
      ]
    },
    {
      "cell_type": "code",
      "source": [
        "# PRACTICAL - 3.4 HEAP SORT\n",
        "def heapify(arr, n, i):\n",
        "    largest = i  # Initialize largest as root\n",
        "    L = 2 * i + 1     # left = 2*i + 1\n",
        "    R = 2 * i + 2     # right = 2*i + 2\n",
        "    # See if left child of root exists and is greater than root\n",
        "    if L < n and arr[largest] < arr[L]:\n",
        "        largest = L\n",
        "    # See if right child of root exists and is greater than root\n",
        "    if R < n and arr[largest] < arr[R]:\n",
        "        largest = R\n",
        "    # Change root, if needed\n",
        "    if largest != i:\n",
        "        arr[i], arr[largest] = arr[largest], arr[i]  # swap\n",
        "        # Heapify the root.\n",
        "        heapify(arr, n, largest)"
      ],
      "metadata": {
        "id": "w547NzPj7wrq"
      },
      "execution_count": 24,
      "outputs": []
    },
    {
      "cell_type": "code",
      "source": [
        "def heap_sort(arr):\n",
        "  n = len(arr)\n",
        "  # Build a maxheap.\n",
        "  for i in range(n//2 - 1, -1, -1):\n",
        "    heapify(arr, n, i)\n",
        "  # One by one extract elements\n",
        "  for i in range(n-1, 0, -1):\n",
        "    arr[i], arr[0] = arr[0], arr[i]  # swap\n",
        "    heapify(arr, i, 0)"
      ],
      "metadata": {
        "id": "ed63OT4TqfH2"
      },
      "execution_count": 25,
      "outputs": []
    },
    {
      "cell_type": "code",
      "source": [
        "# Test Code for Heap Sort\n",
        "arr=[10, 2 , 3, 12, 11, 23, 34, 8,]\n",
        "print(\"Original Array :\",arr)\n",
        "# Function call\n",
        "heap_sort(arr)\n",
        "n = len(arr)\n",
        "print(\"Sorted array is\",arr)"
      ],
      "metadata": {
        "id": "m0Zk0diO8D8P",
        "colab": {
          "base_uri": "https://localhost:8080/"
        },
        "outputId": "5677f209-d571-4510-9451-f4bc12fc5e7e"
      },
      "execution_count": 26,
      "outputs": [
        {
          "output_type": "stream",
          "name": "stdout",
          "text": [
            "Original Array : [10, 2, 3, 12, 11, 23, 34, 8]\n",
            "Sorted array is [2, 3, 8, 10, 11, 12, 23, 34]\n"
          ]
        }
      ]
    },
    {
      "cell_type": "code",
      "source": [],
      "metadata": {
        "id": "rSmM4Nk18iqv"
      },
      "execution_count": null,
      "outputs": []
    }
  ]
}