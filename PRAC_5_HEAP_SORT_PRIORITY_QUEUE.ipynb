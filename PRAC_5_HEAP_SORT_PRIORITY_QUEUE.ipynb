{
  "cells": [
    {
      "cell_type": "code",
      "source": [
        "# PRACTICAL 5.1 HEAP SORT\n",
        "def heapify(array, a, b):\n",
        "  max = b\n",
        "  l = 2 * b + 1\n",
        "  root = 2 * b + 2\n",
        "  if l < a and array[b] < array[l]:\n",
        "    max = l\n",
        "  if root < a and array[max] < array[root]:\n",
        "    max = root\n",
        "\t# Change root if it is not max\n",
        "  if max != b:\n",
        "    array[b], array[max] = array[max], array[b]\n",
        "    heapify(array, a, max)\n",
        "# sort an array of given size\n",
        "def Heap_Sort(array):\n",
        "\ta = len(array)\n",
        "\t# maxheap..\n",
        "\tfor b in range(a // 2 - 1, -1, -1):\n",
        "\t\theapify(array, a, b)\n",
        "\t# extract elements\n",
        "\tfor b in range(a-1, 0, -1):\n",
        "\t\tarray[b], array[0] = array[0], array[b] # swap\n",
        "\t\theapify(array, b, 0)"
      ],
      "metadata": {
        "id": "j1JeDV3jC87m"
      },
      "id": "j1JeDV3jC87m",
      "execution_count": 1,
      "outputs": []
    },
    {
      "cell_type": "code",
      "source": [
        "# Test Code for checking Heap Sort Algorihtm\n",
        "array = [ 7, 2, 5, 6, 3, 1, 8, 4]\n",
        "print(\"The original array is: \", array)\n",
        "Heap_Sort(array)\n",
        "a = len(array)\n",
        "print (\"Array after sorting is: \", array)"
      ],
      "metadata": {
        "id": "L3I_pn0KDQGI",
        "outputId": "fd46a610-859e-41ed-9616-3aa6c4a739f8",
        "colab": {
          "base_uri": "https://localhost:8080/"
        }
      },
      "id": "L3I_pn0KDQGI",
      "execution_count": 2,
      "outputs": [
        {
          "output_type": "stream",
          "name": "stdout",
          "text": [
            "The original array is:  [7, 2, 5, 6, 3, 1, 8, 4]\n",
            "Array after sorting is:  [1, 2, 3, 4, 5, 6, 7, 8]\n"
          ]
        }
      ]
    },
    {
      "cell_type": "code",
      "source": [],
      "metadata": {
        "id": "XBMjdsJaUvjc"
      },
      "id": "XBMjdsJaUvjc",
      "execution_count": null,
      "outputs": []
    }
  ],
  "metadata": {
    "kernelspec": {
      "display_name": "Python 3",
      "name": "python3"
    },
    "language_info": {
      "codemirror_mode": {
        "name": "ipython",
        "version": 3
      },
      "file_extension": ".py",
      "mimetype": "text/x-python",
      "name": "python",
      "nbconvert_exporter": "python",
      "pygments_lexer": "ipython3",
      "version": "3.11.5"
    },
    "colab": {
      "provenance": []
    }
  },
  "nbformat": 4,
  "nbformat_minor": 5
}