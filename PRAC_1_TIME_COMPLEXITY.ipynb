{
  "nbformat": 4,
  "nbformat_minor": 0,
  "metadata": {
    "colab": {
      "provenance": []
    },
    "kernelspec": {
      "name": "python3",
      "display_name": "Python 3"
    },
    "language_info": {
      "name": "python"
    }
  },
  "cells": [
    {
      "cell_type": "code",
      "execution_count": 1,
      "metadata": {
        "id": "u82V8CAxaGGZ",
        "colab": {
          "base_uri": "https://localhost:8080/"
        },
        "outputId": "b7922570-a54c-4e4f-fe4b-8393f36b10e0"
      },
      "outputs": [
        {
          "output_type": "stream",
          "name": "stdout",
          "text": [
            "Hello World!!\n",
            "Time Complexity is of order =  1\n"
          ]
        }
      ],
      "source": [
        "# 1 CONSTANT TIME COMPLEXITY BY STEP COUNT\n",
        "stepcount = 0\n",
        "print(\"Hello World!!\")\n",
        "stepcount = stepcount+1\n",
        "print(\"Time Complexity is of order = \",stepcount)"
      ]
    },
    {
      "cell_type": "code",
      "source": [
        "# 2 LINEAR TIME COMPLEXITY BY STEP COUNT\n",
        "stepcount = 0\n",
        "n = 10\n",
        "for i in range(1, n + 1):\n",
        "  print(\"Hello World !!!\")\n",
        "  stepcount = i\n",
        "print(\"Time Complexity is of order n = \",stepcount)"
      ],
      "metadata": {
        "id": "25XPTuKxbgpW",
        "colab": {
          "base_uri": "https://localhost:8080/"
        },
        "outputId": "e43d47b3-9d6c-4782-c9c9-d10e6284a1aa"
      },
      "execution_count": 2,
      "outputs": [
        {
          "output_type": "stream",
          "name": "stdout",
          "text": [
            "Hello World !!!\n",
            "Hello World !!!\n",
            "Hello World !!!\n",
            "Hello World !!!\n",
            "Hello World !!!\n",
            "Hello World !!!\n",
            "Hello World !!!\n",
            "Hello World !!!\n",
            "Hello World !!!\n",
            "Hello World !!!\n",
            "Time Complexity is of order n =  10\n"
          ]
        }
      ]
    },
    {
      "cell_type": "code",
      "source": [
        "# 3 LOGARITHMIC COMPLEXITY\n",
        "import time\n",
        "start=time.time()\n",
        "n = 8\n",
        "# for (i = 1; i <= n; i=i*2) {\n",
        "for i in range(1,9,+2):\n",
        "  print(\"Hello World!!\")\n",
        "end=time.time()\n",
        "print(\"Time Complexity is of the order log2(n) and time taken = \",(end-start))"
      ],
      "metadata": {
        "id": "By-LJEDYdiLR",
        "colab": {
          "base_uri": "https://localhost:8080/"
        },
        "outputId": "5add2e90-8ddf-4d1b-ab3c-1b6587bbadfb"
      },
      "execution_count": 3,
      "outputs": [
        {
          "output_type": "stream",
          "name": "stdout",
          "text": [
            "Hello World!!\n",
            "Hello World!!\n",
            "Hello World!!\n",
            "Hello World!!\n",
            "Time Complexity is of the order log2(n) and time taken =  0.0037081241607666016\n"
          ]
        }
      ]
    },
    {
      "cell_type": "code",
      "source": [
        "# 4 LOGARITHMIC COMPLEXITY\n",
        "start = time.time()\n",
        "n = 50\n",
        "i = 2\n",
        "for j in range(2,n+1):\n",
        "  if(i >= n):\n",
        "    break\n",
        "  print(\"Hello World !!!\")\n",
        "  i *= i\n",
        "end = time.time()\n",
        "print(\"Time Complexity is of the order log(log(n)) and time taken = \",(end-start))"
      ],
      "metadata": {
        "id": "sgCXi9UBrEzU",
        "colab": {
          "base_uri": "https://localhost:8080/"
        },
        "outputId": "f372e857-14a1-42f3-fbef-e72280cb692a"
      },
      "execution_count": 4,
      "outputs": [
        {
          "output_type": "stream",
          "name": "stdout",
          "text": [
            "Hello World !!!\n",
            "Hello World !!!\n",
            "Hello World !!!\n",
            "Time Complexity is of the order log(log(n)) and time taken =  0.003937959671020508\n"
          ]
        }
      ]
    },
    {
      "cell_type": "code",
      "source": [
        "# 5 Time Complexity for Sum Function Calling\n",
        "import time\n",
        "def sum_list(list): # 1 - t1\n",
        "  start = time.time()\n",
        "  total = 0 # 2 - t2\n",
        "  for num in list: # length of the list say n each step takes time t\n",
        "    total += num # 3 - t3\n",
        "  end = time.time()\n",
        "  return total ,1000*(end-start) # 4 - t4\n",
        "list=[1, 2, 3, 4, 5, 6, 7, 8, 9, 10, 11, 12, 13, 14, 15, 16,17,18,19,20]\n",
        "print(\"(sum, time taken(t1+t2+t*n+t3*n+t4)) =\",sum_list(list))"
      ],
      "metadata": {
        "id": "5eB3ep4qqKWM",
        "colab": {
          "base_uri": "https://localhost:8080/"
        },
        "outputId": "af925ef2-1978-4b23-d0a0-44764bfc6714"
      },
      "execution_count": 5,
      "outputs": [
        {
          "output_type": "stream",
          "name": "stdout",
          "text": [
            "(sum, time taken(t1+t2+t*n+t3*n+t4)) = (210, 0.0050067901611328125)\n"
          ]
        }
      ]
    },
    {
      "cell_type": "code",
      "source": [
        "# 6 Time Complexity for Product Function Calling\n",
        "import time\n",
        "def product_list(list): # 1 - t1\n",
        "  start = time.time()\n",
        "  total = 1 # 2 - t2\n",
        "  for num in list: # length of the list say n each step takes time t\n",
        "    total *= num # 3 - t3\n",
        "  end = time.time()\n",
        "  return total ,1000*(end-start) # 4 - t4\n",
        "list=[1, 2, 3, 4, 5]\n",
        "print(\"(product, time taken(t1+t2+t*n+t3*n+t4)) =\",product_list(list))"
      ],
      "metadata": {
        "id": "1cfS3ezQqR8P",
        "colab": {
          "base_uri": "https://localhost:8080/"
        },
        "outputId": "0142b8a5-e46d-408f-8a50-7bfe0b95a3e0"
      },
      "execution_count": 6,
      "outputs": [
        {
          "output_type": "stream",
          "name": "stdout",
          "text": [
            "(product, time taken(t1+t2+t*n+t3*n+t4)) = (120, 0.0026226043701171875)\n"
          ]
        }
      ]
    },
    {
      "cell_type": "code",
      "source": [
        "# 7 Time Complexity for two for loops\n",
        "import time\n",
        "start = time.time()\n",
        "my_list = [1, 2, 3, 4, 5] # t1\n",
        "for i in range(len(my_list)): # t2\n",
        "  for j in range(len(my_list)): # t3\n",
        "    print(my_list[i], my_list[j]) # n * m * t4\n",
        "end=time.time()\n",
        "print(\"time taken = \",1000*(end-start))"
      ],
      "metadata": {
        "id": "RO-zGkfis5Yh",
        "colab": {
          "base_uri": "https://localhost:8080/"
        },
        "outputId": "b4fc6a01-51c5-46a0-ac56-a081d3bd0d25"
      },
      "execution_count": 7,
      "outputs": [
        {
          "output_type": "stream",
          "name": "stdout",
          "text": [
            "1 1\n",
            "1 2\n",
            "1 3\n",
            "1 4\n",
            "1 5\n",
            "2 1\n",
            "2 2\n",
            "2 3\n",
            "2 4\n",
            "2 5\n",
            "3 1\n",
            "3 2\n",
            "3 3\n",
            "3 4\n",
            "3 5\n",
            "4 1\n",
            "4 2\n",
            "4 3\n",
            "4 4\n",
            "4 5\n",
            "5 1\n",
            "5 2\n",
            "5 3\n",
            "5 4\n",
            "5 5\n",
            "time taken =  14.573812484741211\n"
          ]
        }
      ]
    },
    {
      "cell_type": "code",
      "source": [
        "# 8. Find the Sum of 2 numbers on the above machine\n",
        "start=time.time()\n",
        "def sum(a,b):\n",
        "  return a+b\n",
        "# function call\n",
        "a = 10\n",
        "b = 12\n",
        "print(sum(a,b))\n",
        "end= time.time()\n",
        "print(\"time taken = \",1000*(end-start))"
      ],
      "metadata": {
        "id": "Bf0J7lVkvpfs",
        "colab": {
          "base_uri": "https://localhost:8080/"
        },
        "outputId": "1bc60817-c932-4ca9-80a9-a1201d75b33d"
      },
      "execution_count": 8,
      "outputs": [
        {
          "output_type": "stream",
          "name": "stdout",
          "text": [
            "22\n",
            "time taken =  0.44727325439453125\n"
          ]
        }
      ]
    },
    {
      "cell_type": "code",
      "source": [],
      "metadata": {
        "id": "kfTKGcmuTarZ"
      },
      "execution_count": null,
      "outputs": []
    }
  ]
}